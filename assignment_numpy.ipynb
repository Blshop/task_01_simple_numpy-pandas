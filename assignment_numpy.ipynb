{
 "cells": [
  {
   "cell_type": "markdown",
   "id": "d3df79dd",
   "metadata": {},
   "source": [
    "## Упражнения по библиотеке Numpy"
   ]
  },
  {
   "cell_type": "code",
   "execution_count": 1,
   "id": "76b9c43b",
   "metadata": {},
   "outputs": [],
   "source": [
    "import numpy as np"
   ]
  },
  {
   "cell_type": "markdown",
   "id": "03727b7c",
   "metadata": {},
   "source": [
    "**1.** Дан случайный массив, поменять знак у элементов, значения которых между 3 и 8"
   ]
  },
  {
   "cell_type": "code",
   "execution_count": 2,
   "id": "b89a7523",
   "metadata": {},
   "outputs": [
    {
     "name": "stdout",
     "output_type": "stream",
     "text": [
      "[4 3 8 1 2 3 0 2 0 8]\n",
      "[-4  3 -8  1  2  3  0  2  0 -8]\n"
     ]
    }
   ],
   "source": [
    "# your code\n",
    "arr = np.random.randint(10, size=10)\n",
    "result = np.where((arr<=8)&(arr>3),(-1)*arr,arr)\n",
    "\n",
    "print(arr)\n",
    "print(result)"
   ]
  },
  {
   "cell_type": "markdown",
   "id": "5fa4abda",
   "metadata": {},
   "source": [
    "**2.** Заменить максимальный элемент случайного массива на 0"
   ]
  },
  {
   "cell_type": "code",
   "execution_count": 3,
   "id": "f2788a6e",
   "metadata": {},
   "outputs": [
    {
     "name": "stdout",
     "output_type": "stream",
     "text": [
      "[1 9 4 6 4 4 4 9 1 4]\n",
      "\n",
      "[1 0 4 6 4 4 4 0 1 4]\n"
     ]
    }
   ],
   "source": [
    "# your code\n",
    "arr = np.random.randint(10, size=10)\n",
    "result = np.where(arr == np.amax(arr),0,arr)\n",
    "\n",
    "print(arr)\n",
    "print('')\n",
    "print(result)"
   ]
  },
  {
   "cell_type": "markdown",
   "id": "3cac656b",
   "metadata": {},
   "source": [
    "**3.** Построить прямое произведение массивов (все комбинации с каждым элементом). На вход подается двумерный массив"
   ]
  },
  {
   "cell_type": "code",
   "execution_count": 4,
   "id": "3396b764",
   "metadata": {},
   "outputs": [
    {
     "name": "stdout",
     "output_type": "stream",
     "text": [
      "[[4 3 3]\n",
      " [3 1 4]]\n",
      "\n",
      "[[4 3]\n",
      " [3 3]\n",
      " [3 3]\n",
      " [4 1]\n",
      " [3 1]\n",
      " [3 1]\n",
      " [4 4]\n",
      " [3 4]\n",
      " [3 4]]\n"
     ]
    }
   ],
   "source": [
    "# your code\n",
    "arr = np.random.randint(5, size=(2,3))\n",
    "result = np.transpose([np.tile(arr[0],len(arr[0])), np.repeat(arr[1],len(arr[0]))])\n",
    "\n",
    "print(arr)\n",
    "print('')\n",
    "print(result)"
   ]
  },
  {
   "cell_type": "markdown",
   "id": "674c9354",
   "metadata": {},
   "source": [
    "**4.** Даны 2 массива A (8x3) и B (2x2). Найти строки в A, которые содержат элементы из каждой строки в B, независимо от порядка элементов в B"
   ]
  },
  {
   "cell_type": "code",
   "execution_count": 5,
   "id": "cb664782",
   "metadata": {},
   "outputs": [
    {
     "name": "stdout",
     "output_type": "stream",
     "text": [
      "[[2 0 2]\n",
      " [1 1 4]\n",
      " [0 2 1]\n",
      " [4 0 3]\n",
      " [3 3 0]\n",
      " [4 2 4]\n",
      " [1 0 2]\n",
      " [0 4 0]]\n",
      "\n",
      "[[0 2]\n",
      " [3 4]]\n",
      "\n",
      "[]\n"
     ]
    }
   ],
   "source": [
    "# your code\n",
    "A = np.random.randint(5, size=(8,3))\n",
    "B = np.random.randint(5, size=(2,2))\n",
    "mask = [np.isin(B, x).all() for x in A]\n",
    "result = A[mask]\n",
    "\n",
    "print(A)\n",
    "print('')\n",
    "print(B)\n",
    "print('')\n",
    "print(result)\n",
    "\n"
   ]
  },
  {
   "cell_type": "markdown",
   "id": "fa46533b",
   "metadata": {},
   "source": [
    "**5.** Дана 10x3 матрица, найти строки из неравных значений (например строка [2,2,3] остается, строка [3,3,3] удаляется)"
   ]
  },
  {
   "cell_type": "code",
   "execution_count": 6,
   "id": "fa545b23",
   "metadata": {},
   "outputs": [
    {
     "name": "stdout",
     "output_type": "stream",
     "text": [
      "[[0 0 2]\n",
      " [1 1 2]\n",
      " [2 1 2]\n",
      " [0 1 0]\n",
      " [0 2 2]\n",
      " [1 0 1]\n",
      " [0 2 1]\n",
      " [2 0 2]\n",
      " [0 0 0]\n",
      " [1 0 1]]\n",
      "\n",
      "[[0 0 2]\n",
      " [1 1 2]\n",
      " [2 1 2]\n",
      " [0 1 0]\n",
      " [0 2 2]\n",
      " [1 0 1]\n",
      " [0 2 1]\n",
      " [2 0 2]\n",
      " [1 0 1]]\n"
     ]
    }
   ],
   "source": [
    "# your code\n",
    "arr = np.random.randint(3, size=(10,3))\n",
    "mask = [any(x!=x[0]) for x in arr]\n",
    "result = arr[mask]\n",
    "\n",
    "print(arr)\n",
    "print('')\n",
    "print(result)"
   ]
  },
  {
   "cell_type": "markdown",
   "id": "28f0d116",
   "metadata": {},
   "source": [
    "**6.** Дан двумерный массив. Удалить те строки, которые повторяются"
   ]
  },
  {
   "cell_type": "code",
   "execution_count": 7,
   "id": "83d2c0b7",
   "metadata": {},
   "outputs": [
    {
     "name": "stdout",
     "output_type": "stream",
     "text": [
      "[[2 1 1]\n",
      " [0 1 2]\n",
      " [1 1 1]\n",
      " [0 1 2]\n",
      " [0 0 2]\n",
      " [0 1 2]\n",
      " [1 2 0]\n",
      " [2 1 1]\n",
      " [0 1 0]\n",
      " [0 1 0]]\n",
      "\n",
      "[[0 0 2]\n",
      " [0 1 0]\n",
      " [0 1 2]\n",
      " [1 1 1]\n",
      " [1 2 0]\n",
      " [2 1 1]]\n"
     ]
    }
   ],
   "source": [
    "# your code\n",
    "arr = np.random.randint(3, size=(10,3))\n",
    "result = np.unique(arr, axis=0)\n",
    "\n",
    "print(arr)\n",
    "print('')\n",
    "print(result)"
   ]
  },
  {
   "cell_type": "markdown",
   "id": "6daa9e37",
   "metadata": {},
   "source": [
    "______\n",
    "______"
   ]
  },
  {
   "cell_type": "markdown",
   "id": "cfbfcaff",
   "metadata": {},
   "source": [
    "Для каждой из следующих задач (1-5) нужно привести 2 реализации – одна без использования numpy (cчитайте, что там, где на входе или выходе должны быть numpy array, будут просто списки), а вторая полностью векторизованная с использованием numpy (без использования питоновских циклов/map/list comprehension).\n",
    "\n",
    "\n",
    "__Замечание 1.__ Можно считать, что все указанные объекты непустые (к примеру, в __задаче 1__ на диагонали матрицы есть ненулевые элементы).\n",
    "\n",
    "__Замечание 2.__ Для большинства задач решение занимает не больше 1-2 строк."
   ]
  },
  {
   "cell_type": "markdown",
   "id": "673cac7f",
   "metadata": {},
   "source": [
    "___"
   ]
  },
  {
   "cell_type": "markdown",
   "id": "ca6f585e",
   "metadata": {},
   "source": [
    "* __Задача 1__: Подсчитать произведение ненулевых элементов на диагонали прямоугольной матрицы.  \n",
    " Например, для X = np.array([[1, 0, 1], [2, 0, 2], [3, 0, 3], [4, 4, 4]]) ответ 3."
   ]
  },
  {
   "cell_type": "code",
   "execution_count": 8,
   "id": "065862fc",
   "metadata": {},
   "outputs": [
    {
     "name": "stdout",
     "output_type": "stream",
     "text": [
      "3\n",
      "3\n"
     ]
    }
   ],
   "source": [
    "# your code\n",
    "#numpy\n",
    "x = np.array([[1, 0, 1], [2, 0, 2], [3, 0, 3], [4, 4, 4]])\n",
    "result = np.prod(np.diag(x), where=np.diag(x)>0)\n",
    "print(result)\n",
    "\n",
    "\n",
    "#list\n",
    "x = [[1, 0, 1], [2, 0, 2], [3, 0, 3], [4, 4, 4]]\n",
    "result = 1\n",
    "for i in range(len(x) if len(x)<len(x[0]) else len(x[0])):\n",
    "    result *=x[i][i] if x[i][i]!=0 else 1\n",
    "print(result)\n",
    "\n"
   ]
  },
  {
   "cell_type": "markdown",
   "id": "9fc51d41",
   "metadata": {},
   "source": [
    "* __Задача 2__: Даны два вектора x и y. Проверить, задают ли они одно и то же мультимножество.  \n",
    "  Например, для x = np.array([1, 2, 2, 4]), y = np.array([4, 2, 1, 2]) ответ True."
   ]
  },
  {
   "cell_type": "code",
   "execution_count": 9,
   "id": "a809e02f",
   "metadata": {},
   "outputs": [
    {
     "name": "stdout",
     "output_type": "stream",
     "text": [
      "True\n",
      "True\n"
     ]
    }
   ],
   "source": [
    "# your code\n",
    "#numpy\n",
    "x = np.array([1, 2, 2, 4])\n",
    "y = np.array([4, 2, 1, 2])\n",
    "result = np.array_equal(np.sort(x),np.sort(y))\n",
    "print(result)\n",
    "\n",
    "#list\n",
    "x = [1, 2, 2, 4]\n",
    "y = [4, 2, 1, 2]\n",
    "result = sorted(x)==sorted(y)\n",
    "print(result)"
   ]
  },
  {
   "cell_type": "markdown",
   "id": "b9c185c7",
   "metadata": {},
   "source": [
    "* __Задача 3__: Найти максимальный элемент в векторе x среди элементов, перед которыми стоит ноль. \n",
    " Например, для x = np.array([6, 2, 0, 3, 0, 0, 5, 7, 0]) ответ 5."
   ]
  },
  {
   "cell_type": "code",
   "execution_count": 10,
   "id": "b57df008",
   "metadata": {},
   "outputs": [
    {
     "name": "stdout",
     "output_type": "stream",
     "text": [
      "5\n",
      "5\n"
     ]
    }
   ],
   "source": [
    "# your code\n",
    "#numpy\n",
    "x = np.array([6, 2, 0, 3, 0, 0, 5, 7, 0])\n",
    "zeroes = np.where(x[:-2]==0)    # find zeroes indexes not evaluating last element\n",
    "max_value = np.amax(x[zeroes[0]+1])    #find values that goes after zero by adding 1 to indexes\n",
    "print(max_value)\n",
    "\n",
    "\n",
    "#list\n",
    "x = [6, 2, 0, 3, 0, 0, 5, 7, 0]\n",
    "max_value = 0\n",
    "for i in range(len(x)-1):\n",
    "    if x[i]==0 and x[i+1]>max_value:\n",
    "        max_value = x[i+1]\n",
    "print(max_value)"
   ]
  },
  {
   "cell_type": "markdown",
   "id": "480be4ce",
   "metadata": {},
   "source": [
    "* __Задача 4__: Реализовать кодирование длин серий (Run-length encoding). Для некоторого вектора x необходимо вернуть кортеж из двух векторов одинаковой длины. Первый содержит числа, а второй - сколько раз их нужно повторить.  \n",
    " Например, для x = np.array([2, 2, 2, 3, 3, 3, 5]) ответ (np.array([2, 3, 5]), np.array([3, 3, 1]))."
   ]
  },
  {
   "cell_type": "code",
   "execution_count": 11,
   "id": "3c592124",
   "metadata": {},
   "outputs": [
    {
     "name": "stdout",
     "output_type": "stream",
     "text": [
      "(array([2, 3, 5]), array([3, 3, 1], dtype=int64))\n",
      "[2, 3, 5] [3, 3, 1]\n"
     ]
    }
   ],
   "source": [
    "# your code\n",
    "#numpy\n",
    "x = np.array([2, 2, 2, 3, 3, 3, 5])\n",
    "result = np.unique(x, return_counts=True)\n",
    "print(result)\n",
    "\n",
    "#list\n",
    "x = [2, 2, 2, 3, 3, 3, 5]\n",
    "unique_x = set(x)\n",
    "count_x = []\n",
    "for i in unique_x:\n",
    "    count_x.append(x.count(i))\n",
    "print(list(unique_x),count_x)"
   ]
  },
  {
   "cell_type": "markdown",
   "id": "077532ec",
   "metadata": {},
   "source": [
    "* __Задача 5__: Даны две выборки объектов - X и Y. Вычислить матрицу евклидовых расстояний между объектами. Сравните с функцией scipy.spatial.distance.cdist по скорости работы."
   ]
  },
  {
   "cell_type": "code",
   "execution_count": 12,
   "id": "1e807797",
   "metadata": {},
   "outputs": [
    {
     "name": "stdout",
     "output_type": "stream",
     "text": [
      "0.00017799999841372482\n",
      "[[ 6.55743852 12.76714533 10.29563014  4.89897949  9.48683298  7.61577311\n",
      "   5.83095189  3.16227766  8.66025404  5.38516481]\n",
      " [ 8.54400375 11.          8.36660027  8.83176087  6.92820323  3.16227766\n",
      "   4.69041576  8.24621125  1.73205081  7.41619849]\n",
      " [10.34408043  8.42614977  8.83176087 11.5758369   8.24621125  7.87400787\n",
      "  10.29563014 12.64911064  7.54983444 12.52996409]\n",
      " [10.34408043  6.40312424  3.16227766  8.60232527  5.09901951 10.48808848\n",
      "   7.87400787  7.07106781 11.18033989  8.06225775]\n",
      " [11.83215957  6.164414    2.64575131 10.53565375  4.58257569 10.63014581\n",
      "   8.66025404  9.32737905 11.04536102  9.59166305]\n",
      " [11.22497216  3.46410162  5.19615242 11.70469991  7.68114575 11.\n",
      "  10.14889157 11.35781669 10.29563014 11.04536102]\n",
      " [ 7.61577311  4.69041576  4.12310563  7.54983444  6.70820393  9.11043358\n",
      "   6.70820393  6.244998    8.71779789  6.4807407 ]\n",
      " [11.22497216  5.47722558  3.87298335 11.26942767  6.55743852  9.8488578\n",
      "   7.93725393  9.8488578   8.71779789  8.83176087]\n",
      " [ 6.78232998  4.69041576  5.56776436  7.          5.          7.28010989\n",
      "   8.66025404  8.88819442  8.60232527 10.29563014]\n",
      " [10.29563014  9.05538514  6.08276253  8.30662386  3.          8.18535277\n",
      "   8.54400375  8.88819442 10.39230485 10.48808848]]\n",
      "\n",
      "0.0003235000003769528\n",
      "[[6.557438524302, 12.767145334803704, 10.295630140987, 4.898979485566356, 9.486832980505138, 7.615773105863909, 5.830951894845301, 3.1622776601683795, 8.660254037844387, 5.385164807134504], [8.54400374531753, 11.0, 8.366600265340756, 8.831760866327848, 6.928203230275509, 3.1622776601683795, 4.69041575982343, 8.246211251235321, 1.7320508075688772, 7.416198487095663], [10.344080432788601, 8.426149773176359, 8.831760866327848, 11.575836902790225, 8.246211251235321, 7.874007874011811, 10.295630140987, 12.649110640673518, 7.54983443527075, 12.529964086141668], [10.344080432788601, 6.4031242374328485, 3.1622776601683795, 8.602325267042627, 5.0990195135927845, 10.488088481701515, 7.874007874011811, 7.0710678118654755, 11.180339887498949, 8.06225774829855], [11.832159566199232, 6.164414002968976, 2.6457513110645907, 10.535653752852738, 4.58257569495584, 10.63014581273465, 8.660254037844387, 9.327379053088816, 11.045361017187261, 9.591663046625438], [11.224972160321824, 3.4641016151377544, 5.196152422706632, 11.704699910719626, 7.681145747868608, 11.0, 10.14889156509222, 11.357816691600547, 10.295630140987, 11.045361017187261], [7.615773105863909, 4.69041575982343, 4.123105625617661, 7.54983443527075, 6.708203932499369, 9.1104335791443, 6.708203932499369, 6.244997998398398, 8.717797887081348, 6.48074069840786], [11.224972160321824, 5.477225575051661, 3.872983346207417, 11.269427669584644, 6.557438524302, 9.848857801796104, 7.937253933193772, 9.848857801796104, 8.717797887081348, 8.831760866327848], [6.782329983125268, 4.69041575982343, 5.5677643628300215, 7.0, 5.0, 7.280109889280518, 8.660254037844387, 8.888194417315589, 8.602325267042627, 10.295630140987], [10.295630140987, 9.055385138137417, 6.082762530298219, 8.306623862918075, 3.0, 8.18535277187245, 8.54400374531753, 8.888194417315589, 10.392304845413264, 10.488088481701515]]\n",
      "\n",
      "0.000383700000384124\n",
      "[[ 6.55743852 12.76714533 10.29563014  4.89897949  9.48683298  7.61577311\n",
      "   5.83095189  3.16227766  8.66025404  5.38516481]\n",
      " [ 8.54400375 11.          8.36660027  8.83176087  6.92820323  3.16227766\n",
      "   4.69041576  8.24621125  1.73205081  7.41619849]\n",
      " [10.34408043  8.42614977  8.83176087 11.5758369   8.24621125  7.87400787\n",
      "  10.29563014 12.64911064  7.54983444 12.52996409]\n",
      " [10.34408043  6.40312424  3.16227766  8.60232527  5.09901951 10.48808848\n",
      "   7.87400787  7.07106781 11.18033989  8.06225775]\n",
      " [11.83215957  6.164414    2.64575131 10.53565375  4.58257569 10.63014581\n",
      "   8.66025404  9.32737905 11.04536102  9.59166305]\n",
      " [11.22497216  3.46410162  5.19615242 11.70469991  7.68114575 11.\n",
      "  10.14889157 11.35781669 10.29563014 11.04536102]\n",
      " [ 7.61577311  4.69041576  4.12310563  7.54983444  6.70820393  9.11043358\n",
      "   6.70820393  6.244998    8.71779789  6.4807407 ]\n",
      " [11.22497216  5.47722558  3.87298335 11.26942767  6.55743852  9.8488578\n",
      "   7.93725393  9.8488578   8.71779789  8.83176087]\n",
      " [ 6.78232998  4.69041576  5.56776436  7.          5.          7.28010989\n",
      "   8.66025404  8.88819442  8.60232527 10.29563014]\n",
      " [10.29563014  9.05538514  6.08276253  8.30662386  3.          8.18535277\n",
      "   8.54400375  8.88819442 10.39230485 10.48808848]]\n"
     ]
    }
   ],
   "source": [
    "# your code\n",
    "# initial data\n",
    "from scipy.spatial.distance import cdist\n",
    "from math import sqrt\n",
    "from time import perf_counter\n",
    "\n",
    "# initial data\n",
    "X = np.random.randint(10, size=(10, 4))\n",
    "Y = np.random.randint(10, size=(10, 4))\n",
    "X_list = X.tolist()\n",
    "Y_list = Y.tolist()\n",
    "\n",
    "# timer decorator\n",
    "def timer(fn):\n",
    "    def inner(*args, **kwargs):\n",
    "        start = perf_counter()\n",
    "        result = fn(*args, **kwargs)\n",
    "        end = perf_counter()\n",
    "        elapsed = end - start\n",
    "        print(elapsed)\n",
    "        return result\n",
    "    return inner\n",
    "\n",
    "#n numpy function\n",
    "@timer\n",
    "def numpy_dist(arr1,arr2):\n",
    "    P = np.add.outer(np.sum(arr1**2, axis=1), np.sum(arr2**2, axis=1))\n",
    "    N = np.dot(arr1, arr2.T)\n",
    "    return np.sqrt(P - 2*N)\n",
    "\n",
    "print(numpy_dist(X,Y))\n",
    "print('')\n",
    "\n",
    "# simple python function\n",
    "@timer\n",
    "def python_dist(arr1,arr2):\n",
    "    dist = []\n",
    "    for i in range(len(arr1)):\n",
    "        inner_dist = []\n",
    "        for j in range(len(arr2)):\n",
    "            coord_sum = 0\n",
    "            for k in range(len(arr1[0])):\n",
    "                coord_sum += (arr1[i][k]-arr2[j][k])**2\n",
    "            inner_dist.append(sqrt(coord_sum))\n",
    "        dist.append(inner_dist)\n",
    "    return dist\n",
    "\n",
    "print(python_dist(X_list,Y_list))\n",
    "print('')\n",
    "\n",
    "# scipy function\n",
    "@timer\n",
    "def scipy_dist(arr1,arr2):\n",
    "    return cdist(arr1,arr2,'euclidean')\n",
    "\n",
    "print(scipy_dist(X,Y))\n"
   ]
  },
  {
   "cell_type": "markdown",
   "id": "973e8064",
   "metadata": {},
   "source": [
    "_______\n",
    "________"
   ]
  },
  {
   "cell_type": "markdown",
   "id": "1104acb7",
   "metadata": {},
   "source": [
    "* #### __Задача 6__: CrunchieMunchies __*__\n",
    "\n",
    "Вы работаете в отделе маркетинга пищевой компании MyCrunch, которая разрабатывает новый вид вкусных, полезных злаков под названием **CrunchieMunchies**.\n",
    "\n",
    "Вы хотите продемонстрировать потребителям, насколько полезны ваши хлопья по сравнению с другими ведущими брендами, поэтому вы собрали данные о питании нескольких разных конкурентов.\n",
    "\n",
    "Ваша задача - использовать вычисления Numpy для анализа этих данных и доказать, что ваши **СrunchieMunchies** - самый здоровый выбор для потребителей.\n"
   ]
  },
  {
   "cell_type": "code",
   "execution_count": 13,
   "id": "10a77f8d",
   "metadata": {},
   "outputs": [],
   "source": [
    "import numpy as np"
   ]
  },
  {
   "cell_type": "markdown",
   "id": "ab87cb03",
   "metadata": {},
   "source": [
    "1. Просмотрите файл cereal.csv. Этот файл содержит количества калорий для различных марок хлопьев. Загрузите данные из файла и сохраните их как calorie_stats."
   ]
  },
  {
   "cell_type": "code",
   "execution_count": 14,
   "id": "9681ebf2",
   "metadata": {},
   "outputs": [
    {
     "data": {
      "text/plain": [
       "array([ 70., 120.,  70.,  50., 110., 110., 110., 130.,  90.,  90., 120.,\n",
       "       110., 120., 110., 110., 110., 100., 110., 110., 110., 100., 110.,\n",
       "       100., 100., 110., 110., 100., 120., 120., 110., 100., 110., 100.,\n",
       "       110., 120., 120., 110., 110., 110., 140., 110., 100., 110., 100.,\n",
       "       150., 150., 160., 100., 120., 140.,  90., 130., 120., 100.,  50.,\n",
       "        50., 100., 100., 120., 100.,  90., 110., 110.,  80.,  90.,  90.,\n",
       "       110., 110.,  90., 110., 140., 100., 110., 110., 100., 100., 110.])"
      ]
     },
     "execution_count": 14,
     "metadata": {},
     "output_type": "execute_result"
    }
   ],
   "source": [
    "calorie_stats = np.loadtxt(\"./data/cereal.csv\", delimiter=\",\")\n",
    "calorie_stats"
   ]
  },
  {
   "cell_type": "markdown",
   "id": "139cfbd8",
   "metadata": {},
   "source": [
    "2. В одной порции CrunchieMunchies содержится 60 калорий. Насколько выше среднее количество калорий у ваших конкурентов?\n",
    "\n",
    "Сохраните ответ в переменной average_calories и распечатайте переменную в терминале"
   ]
  },
  {
   "cell_type": "code",
   "execution_count": 15,
   "id": "7036d240",
   "metadata": {},
   "outputs": [
    {
     "name": "stdout",
     "output_type": "stream",
     "text": [
      "106.88311688311688\n"
     ]
    }
   ],
   "source": [
    "# your code\n",
    "average_calories = np.average(calorie_stats)\n",
    "print(average_calories)"
   ]
  },
  {
   "cell_type": "markdown",
   "id": "b2ddb4cd",
   "metadata": {},
   "source": [
    "3. Корректно ли среднее количество калорий отражает распределение набора данных? Давайте отсортируем данные и посмотрим.\n",
    "\n",
    "Отсортируйте данные и сохраните результат в переменной calorie_stats_sorted. Распечатайте отсортированную информацию"
   ]
  },
  {
   "cell_type": "code",
   "execution_count": 16,
   "id": "46eeb4ed",
   "metadata": {},
   "outputs": [
    {
     "name": "stdout",
     "output_type": "stream",
     "text": [
      "[ 50.  50.  50.  70.  70.  80.  90.  90.  90.  90.  90.  90.  90. 100.\n",
      " 100. 100. 100. 100. 100. 100. 100. 100. 100. 100. 100. 100. 100. 100.\n",
      " 100. 100. 110. 110. 110. 110. 110. 110. 110. 110. 110. 110. 110. 110.\n",
      " 110. 110. 110. 110. 110. 110. 110. 110. 110. 110. 110. 110. 110. 110.\n",
      " 110. 110. 110. 120. 120. 120. 120. 120. 120. 120. 120. 120. 120. 130.\n",
      " 130. 140. 140. 140. 150. 150. 160.]\n"
     ]
    }
   ],
   "source": [
    "# your code\n",
    "calorie_stats_sorted = np.sort(calorie_stats)\n",
    "print(calorie_stats_sorted)"
   ]
  },
  {
   "cell_type": "markdown",
   "id": "4dc74116",
   "metadata": {},
   "source": [
    "4. Похоже, что большинство значений выше среднего. Давайте посмотрим, является ли медиана наиболее корректным показателем набора данных.\n",
    "\n",
    "Вычислите медиану набора данных и сохраните свой ответ в median_calories. Выведите медиану, чтобы вы могли видеть, как она сравнивается со средним значением."
   ]
  },
  {
   "cell_type": "code",
   "execution_count": 17,
   "id": "b56627c3",
   "metadata": {},
   "outputs": [
    {
     "name": "stdout",
     "output_type": "stream",
     "text": [
      "110.0\n"
     ]
    }
   ],
   "source": [
    "# your code\n",
    "median_calories = np.median(calorie_stats)\n",
    "print(median_calories)"
   ]
  },
  {
   "cell_type": "markdown",
   "id": "a63ab72f",
   "metadata": {},
   "source": [
    "5. В то время как медиана показывает, что по крайней мере половина наших значений составляет более 100 калорий, было бы более впечатляюще показать, что значительная часть конкурентов имеет более высокое количество калорий, чем CrunchieMunchies.\n",
    "\n",
    "Рассчитайте различные процентили и распечатайте их, пока не найдете наименьший процентиль, превышающий 60 калорий. Сохраните это значение в переменной nth_percentile."
   ]
  },
  {
   "cell_type": "code",
   "execution_count": 18,
   "id": "fe80ce03",
   "metadata": {},
   "outputs": [
    {
     "name": "stdout",
     "output_type": "stream",
     "text": [
      "70.0\n"
     ]
    }
   ],
   "source": [
    "# your code\n",
    "nth_percentile = 4\n",
    "percentile = np.percentile(calorie_stats,nth_percentile)\n",
    "print(percentile)"
   ]
  },
  {
   "cell_type": "markdown",
   "id": "a2a3c5aa",
   "metadata": {},
   "source": [
    "6. Хотя процентиль показывает нам, что у большинства конкурентов количество калорий намного выше, это неудобная концепция для использования в маркетинговых материалах.\n",
    "\n",
    "Вместо этого давайте подсчитаем процент хлопьев, в которых содержится более 60 калорий на порцию. Сохраните свой ответ в переменной more_calories и распечатайте его"
   ]
  },
  {
   "cell_type": "code",
   "execution_count": 19,
   "id": "ade0f6ea",
   "metadata": {},
   "outputs": [
    {
     "name": "stdout",
     "output_type": "stream",
     "text": [
      "96.1038961038961\n"
     ]
    }
   ],
   "source": [
    "# your code\n",
    "more_calories = (calorie_stats>60).mean()*100\n",
    "print(more_calories)"
   ]
  },
  {
   "cell_type": "markdown",
   "id": "1735d65b",
   "metadata": {},
   "source": [
    "7. Это действительно высокий процент. Это будет очень полезно, когда мы будем продвигать CrunchieMunchies. Но один вопрос заключается в том, насколько велики различия в наборе данных? Можем ли мы сделать обобщение, что в большинстве злаков содержится около 100 калорий или разброс еще больше?\n",
    "\n",
    "Рассчитайте величину отклонения, найдя стандартное отклонение, Сохраните свой ответ в calorie_std и распечатайте на терминале. Как мы можем включить эту ценность в наш анализ?"
   ]
  },
  {
   "cell_type": "code",
   "execution_count": 20,
   "id": "85c8df1f",
   "metadata": {},
   "outputs": [
    {
     "name": "stdout",
     "output_type": "stream",
     "text": [
      "19.35718533390827\n"
     ]
    }
   ],
   "source": [
    "# your code\n",
    "calorie_std = np.std(calorie_stats)\n",
    "print(calorie_std)\n",
    "\n",
    "# Yes, we can assume that most flakes have an average of 100 cal.\n",
    "# Our value of CrunchieMunchies is at 2 std from and average, and we can use it in promotion."
   ]
  },
  {
   "cell_type": "markdown",
   "id": "037455c5",
   "metadata": {},
   "source": [
    "8. Напишите короткий абзац, в котором кратко изложите свои выводы и то, как, по вашему мнению, эти данные могут быть использованы в интересах Mycrunch при маркетинге CrunchieMunchies."
   ]
  },
  {
   "cell_type": "code",
   "execution_count": 21,
   "id": "c260fee9",
   "metadata": {},
   "outputs": [],
   "source": [
    "# your code\n",
    "\n",
    "# Currently in the fitness industry, a lot of attention is paid to weight loss.\n",
    "# Most people are of the opinion that in order to lose weight, you need to consume low-calorie foods.\n",
    "# Due to the fact that our flakes have very low calories (much less then most of other products) we can use it as a main way to promote our product."
   ]
  }
 ],
 "metadata": {
  "kernelspec": {
   "display_name": "Python 3.10.5 ('.venv': venv)",
   "language": "python",
   "name": "python3"
  },
  "language_info": {
   "codemirror_mode": {
    "name": "ipython",
    "version": 3
   },
   "file_extension": ".py",
   "mimetype": "text/x-python",
   "name": "python",
   "nbconvert_exporter": "python",
   "pygments_lexer": "ipython3",
   "version": "3.10.5"
  },
  "vscode": {
   "interpreter": {
    "hash": "641f98dbf477f1979b1ad7a522749bc00a5dcb0de9c67dcdf87f15011b734dae"
   }
  }
 },
 "nbformat": 4,
 "nbformat_minor": 5
}
